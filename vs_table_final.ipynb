{
 "cells": [
  {
   "cell_type": "code",
   "execution_count": 1,
   "metadata": {},
   "outputs": [],
   "source": [
    "import pandas as pd\n",
    "import numpy as np\n",
    "import random"
   ]
  },
  {
   "cell_type": "code",
   "execution_count": 2,
   "metadata": {},
   "outputs": [],
   "source": [
    "teams_dict = {\n",
    "    'Real Madrid': [1, 'Spain'],\n",
    "    'Manchester City': [1, 'England'],\n",
    "    'Bayern Munich': [1, 'Germany'],\n",
    "    'PSG': [1, 'France'],\n",
    "    'Liverpool': [1, 'England'],\n",
    "    'Inter Milan': [1, 'Italy'],\n",
    "    'Borussia Dortmund': [1, 'Germany'],\n",
    "    'RB Leipzig': [1, 'Germany'],\n",
    "    'Barcelona': [1, 'Spain'],\n",
    "    'Bayer Leverkusen': [2, 'Germany'],\n",
    "    'Atlético Madrid': [2, 'Spain'],\n",
    "    'Atalanta': [2, 'Italy'],\n",
    "    'Arsenal': [2, 'England'],\n",
    "    'AC Milan': [2, 'Italy'],\n",
    "    'Juventus': [2, 'Italy'],\n",
    "    'Benfica': [2, 'Portugal'],\n",
    "    'Club Brugge KV': [2, 'Belgium'],\n",
    "    'Shakhtar Donetsk': [2, 'Ukraine'],\n",
    "    'Feyenoord': [3, 'Netherlands'],\n",
    "    'Sporting CP': [3, 'Portugal'],\n",
    "    'PSV Eindhoven': [3, 'Netherlands'],\n",
    "    'Dinamo Zagreb': [3, 'Croatia'],\n",
    "    'Salzburg': [3, 'Austria'],\n",
    "    'Lille': [3, 'France'],\n",
    "    'Crvena zvezda': [3, 'Serbia'],\n",
    "    'Young Boys': [3, 'Switzerland'],\n",
    "    'Celtic': [3, 'Scotland'],\n",
    "    'Slovan Bratislava': [4, 'Slovakia'],\n",
    "    'Monaco': [4, 'France'],\n",
    "    'Sparta Prague': [4, 'Czech Republic'],\n",
    "    'Aston Villa': [4, 'England'],\n",
    "    'Bologna': [4, 'Italy'],\n",
    "    'Girona': [4, 'Spain'],\n",
    "    'Stuttgart': [4, 'Germany'],\n",
    "    'Sturm Graz': [4, 'Austria'],\n",
    "    'Brest': [4, 'France']\n",
    "}\n",
    "teams_info=pd.DataFrame.from_dict(teams_dict, orient='index', columns=['pot', 'country'])\n",
    "match_table = pd.DataFrame(columns=list(teams_dict.keys()),index=list(teams_dict.keys()))\n"
   ]
  },
  {
   "cell_type": "code",
   "execution_count": null,
   "metadata": {},
   "outputs": [],
   "source": [
    "# Check if the opposing countries exceed two.\n",
    "def check_country_limit(country, country_count, draw_pool):\n",
    "    if country not in country_count:\n",
    "        country_count[country]=1\n",
    "    else:\n",
    "        draw_pool=draw_pool[draw_pool['country']!=country]\n",
    "    return draw_pool"
   ]
  },
  {
   "cell_type": "code",
   "execution_count": null,
   "metadata": {},
   "outputs": [],
   "source": [
    "#Eliminate the teams that have already been drawn\n",
    "def remove_taken_teams(i,vs,team_pot,pot_pool,is_home):\n",
    "    #check if homematch been taken\n",
    "    if is_home:\n",
    "        sub_vs=vs.iloc[i*9:(i+1)*9, (team_pot-1)*9:team_pot*9]\n",
    "        rows_with_1 = sub_vs[(sub_vs == 1).any(axis=1)]\n",
    "        indices_with_1 = rows_with_1.index.tolist()       \n",
    "        drop_indices=[idx for idx in indices_with_1 if idx in pot_pool.index]\n",
    "        pot_pool=pot_pool.drop(drop_indices)#exclude teams have been taken\n",
    "    else:\n",
    "        sub_vs=vs.iloc[i*9:(i+1)*9, (team_pot-1)*9:team_pot*9]\n",
    "        rows_with_0 = sub_vs[(sub_vs == 0).any(axis=1)]\n",
    "        indices_with_0 = rows_with_0.index.tolist()       \n",
    "        drop_indices=[idx for idx in indices_with_0 if idx in pot_pool.index]\n",
    "        pot_pool=pot_pool.drop(drop_indices)#exclude teams have been taken\n",
    "    return pot_pool"
   ]
  },
  {
   "cell_type": "code",
   "execution_count": null,
   "metadata": {},
   "outputs": [],
   "source": [
    "#Avoid a certain opponent, as there are already two teams from the same league as that opponent.\n",
    "def check_opp_country(team, pot, df):\n",
    "  team_country=teams_info.loc[team,'country']\n",
    "  teams=pot.index.tolist()\n",
    "  for i in teams:\n",
    "    opp_teams = df[i].notna().index[df[i].notna()].tolist()\n",
    "    opp_country_count={}\n",
    "    opp_country_count[team_country]=0\n",
    "    for opp_team in opp_teams: \n",
    "      opp_country=teams_info.loc[opp_team,'country']\n",
    "      if opp_country not in opp_country_count:\n",
    "        opp_country_count[opp_country]=1\n",
    "      else:\n",
    "        opp_country_count[opp_country]+=1\n",
    "    if opp_country_count[team_country] ==2:\n",
    "      pot=pot.drop(i)\n",
    "  return pot\n"
   ]
  },
  {
   "cell_type": "code",
   "execution_count": 6,
   "metadata": {},
   "outputs": [],
   "source": [
    "def draw_one_team(i, vs, draw_pool, team, is_home, team_pot, info, country_count):\n",
    "    if is_home:\n",
    "        pot_pool=draw_pool[draw_pool['pot']==i+1]\n",
    "\n",
    "        #check if homematch been taken\n",
    "        pot_pool=remove_taken_teams(i,vs,team_pot,pot_pool,True)\n",
    "\n",
    "        # remove teams that has 2 rival in current team country\n",
    "        pot_pool=check_opp_country(team,pot_pool,vs)\n",
    "\n",
    "        # draw\n",
    "        opp= random.choice(pot_pool.index)\n",
    "        opp_country=info.loc[opp,'country']\n",
    "        # update vs table\n",
    "        vs.loc[opp,team]=1\n",
    "        vs.loc[team,opp]=0\n",
    "\n",
    "        # update pool\n",
    "        draw_pool=draw_pool.drop(opp)\n",
    "        #check country_number\n",
    "        draw_pool=check_country_limit(opp_country, country_count, draw_pool)\n",
    "    else:\n",
    "        pot_pool=draw_pool[draw_pool['pot']==i+1]\n",
    "\n",
    "        #check if awaymatch been taken\n",
    "        pot_pool=remove_taken_teams(i,vs,team_pot,pot_pool,False)\n",
    "\n",
    "        # remove teams that has 2 rival in current team country\n",
    "        pot_pool=check_opp_country(team,pot_pool,vs)\n",
    "\n",
    "        #draw\n",
    "        opp= random.choice(pot_pool.index)\n",
    "        opp_country=info.loc[opp,'country']\n",
    "\n",
    "        # update vs table\n",
    "        vs.loc[opp,team]=0\n",
    "        vs.loc[team,opp]=1\n",
    "\n",
    "        # update pool\n",
    "        draw_pool=draw_pool.drop(opp)\n",
    "        #check country_number\n",
    "        draw_pool=check_country_limit(opp_country, country_count, draw_pool)\n",
    "    return draw_pool,vs"
   ]
  },
  {
   "cell_type": "code",
   "execution_count": 7,
   "metadata": {},
   "outputs": [],
   "source": [
    "def draw(team, vs, info, teams_info):\n",
    "    team_index = info.index.get_loc(team)\n",
    "    team_country = info.loc[team, 'country']\n",
    "    team_pot = info.loc[team, 'pot']\n",
    "    draw_pool = info.copy()\n",
    "    draw_pool = draw_pool[draw_pool['country'] != team_country]  # exclude its own country, including itself\n",
    "    country_count = {}\n",
    "    \n",
    "    drawn_club_list = list(vs[vs[team].notna()].index)\n",
    "    if drawn_club_list:\n",
    "        drawn_country_list = [info.loc[club, 'country'] for club in drawn_club_list]\n",
    "        for country in drawn_country_list:\n",
    "            draw_pool = check_country_limit(country, country_count, draw_pool)   \n",
    "    \n",
    "    for i in range(4):\n",
    "        # two places to draw      \n",
    "        if sum(vs.iloc[i*9:(i+1)*9, team_index].notna()) == 0:\n",
    "            # First draw home match\n",
    "            draw_pool, vs = draw_one_team(i, vs, draw_pool, team, True, team_pot, info, country_count)\n",
    "            \n",
    "            # Then draw away match\n",
    "            draw_pool, vs = draw_one_team(i, vs, draw_pool, team, False, team_pot, info, country_count)\n",
    "        \n",
    "        # one place to draw\n",
    "        elif sum(vs.iloc[i*9:(i+1)*9, team_index].notna()) == 1:\n",
    "            t = vs.iloc[i*9:(i+1)*9, team_index].dropna()\n",
    "            \n",
    "            if sum(t) == 0:  # need to draw home\n",
    "                draw_pool, vs = draw_one_team(i, vs, draw_pool, team, True, team_pot, info, country_count)\n",
    "            \n",
    "            elif sum(t) == 1:  # need to draw away\n",
    "                draw_pool, vs = draw_one_team(i, vs, draw_pool, team, False, team_pot, info, country_count)\n",
    "    \n",
    "    return vs"
   ]
  },
  {
   "cell_type": "code",
   "execution_count": 8,
   "metadata": {},
   "outputs": [],
   "source": [
    "def draw_table(teams_dict):\n",
    "    vs = pd.DataFrame(columns=list(teams_dict.keys()), index=list(teams_dict.keys()))\n",
    "    info = pd.DataFrame.from_dict(teams_dict, orient='index', columns=['pot', 'country'])\n",
    "    teams_info = info.copy()\n",
    "    \n",
    "    for team in teams_dict.keys():\n",
    "        vs = draw(team, vs, info, teams_info)\n",
    "    \n",
    "    return vs"
   ]
  },
  {
   "cell_type": "code",
   "execution_count": 9,
   "metadata": {},
   "outputs": [],
   "source": [
    "def trytrytry():\n",
    "    while True:\n",
    "        try:\n",
    "            df=draw_table(teams_dict)\n",
    "            return df\n",
    "        except:\n",
    "            continue"
   ]
  },
  {
   "cell_type": "code",
   "execution_count": 10,
   "metadata": {},
   "outputs": [],
   "source": [
    "vs_table = trytrytry()"
   ]
  },
  {
   "cell_type": "code",
   "execution_count": 11,
   "metadata": {},
   "outputs": [],
   "source": [
    "vs_table.to_csv('vs_table.csv')"
   ]
  },
  {
   "cell_type": "code",
   "execution_count": null,
   "metadata": {},
   "outputs": [
    {
     "data": {
      "text/plain": [
       "\"这个规则会导致无解，正式比赛也没有严格遵守这个规则\\n#避免主场或客场出现两场比赛来自同一联赛。\\ndef check_same_home_away(team,pot,df,is_home):\\n    if is_home:\\n        teams=df.index.tolist()\\n        for i in teams:\\n            if df.loc[i,team] == 1:\\n                # find i's country\\n                i_country=teams_info.loc[i,'country']\\n                # filter out the teams in pot from the same country\\n                pot = pot[pot['country'] != i_country]\\n    else:\\n        teams=df.index.tolist()\\n        for i in teams:\\n            if df.loc[i,team] == 0:\\n                # find i's country\\n                i_country=teams_info.loc[i,'country']\\n                # filter out the teams in pot from the same country\\n                pot = pot[pot['country'] != i_country]\\n    return pot\\n\""
      ]
     },
     "execution_count": 7,
     "metadata": {},
     "output_type": "execute_result"
    }
   ],
   "source": [
    "#This rule could lead to an unsolvable situation, and official competitions don’t strictly adhere to it either.\n",
    "#Avoid having two matches from the same league in either home or away fixtures.\"\n",
    "def check_same_home_away(team,pot,df,is_home):\n",
    "    if is_home:\n",
    "        teams=df.index.tolist()\n",
    "        for i in teams:\n",
    "            if df.loc[i,team] == 1:\n",
    "                # find i's country\n",
    "                i_country=teams_info.loc[i,'country']\n",
    "                # filter out the teams in pot from the same country\n",
    "                pot = pot[pot['country'] != i_country]\n",
    "    else:\n",
    "        teams=df.index.tolist()\n",
    "        for i in teams:\n",
    "            if df.loc[i,team] == 0:\n",
    "                # find i's country\n",
    "                i_country=teams_info.loc[i,'country']\n",
    "                # filter out the teams in pot from the same country\n",
    "                pot = pot[pot['country'] != i_country]\n",
    "    return pot\n",
    "'''"
   ]
  }
 ],
 "metadata": {
  "kernelspec": {
   "display_name": "Python 3",
   "language": "python",
   "name": "python3"
  },
  "language_info": {
   "codemirror_mode": {
    "name": "ipython",
    "version": 3
   },
   "file_extension": ".py",
   "mimetype": "text/x-python",
   "name": "python",
   "nbconvert_exporter": "python",
   "pygments_lexer": "ipython3",
   "version": "3.12.2"
  }
 },
 "nbformat": 4,
 "nbformat_minor": 2
}
